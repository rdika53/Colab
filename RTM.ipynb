{
  "nbformat": 4,
  "nbformat_minor": 0,
  "metadata": {
    "colab": {
      "name": "RTM.ipynb",
      "provenance": [],
      "collapsed_sections": [],
      "authorship_tag": "ABX9TyPvZ2G1Og7eap5WfOBjF8gB",
      "include_colab_link": true
    },
    "kernelspec": {
      "name": "python3",
      "display_name": "Python 3"
    },
    "language_info": {
      "name": "python"
    },
    "accelerator": "GPU"
  },
  "cells": [
    {
      "cell_type": "markdown",
      "metadata": {
        "id": "view-in-github",
        "colab_type": "text"
      },
      "source": [
        "<a href=\"https://colab.research.google.com/github/rdika53/XEQ/blob/main/RTM.ipynb\" target=\"_parent\"><img src=\"https://colab.research.google.com/assets/colab-badge.svg\" alt=\"Open In Colab\"/></a>"
      ]
    },
    {
      "cell_type": "code",
      "metadata": {
        "cellView": "form",
        "id": "Y0rcVxR_piHy"
      },
      "source": [
        "#@title **GPU Series**\n",
        "!nvidia-smi"
      ],
      "execution_count": null,
      "outputs": []
    },
    {
      "cell_type": "code",
      "metadata": {
        "id": "yHHAVgTVjCWv",
        "colab": {
          "base_uri": "https://localhost:8080/"
        },
        "cellView": "form",
        "outputId": "d04e4e99-88e9-4130-baf8-f43ecfddc843"
      },
      "source": [
        "#@title **SSH**\n",
        "#@markdown Jika Error, Jalankan ulang scriptnya dari awal\n",
        "import random, string, urllib.request, json, getpass\n",
        "password = ''.join(random.choice(string.ascii_letters + string.digits) for i in range(5))\n",
        "! wget -q -c -nc https://bin.equinox.io/c/4VmDzA7iaHb/ngrok-stable-linux-amd64.zip\n",
        "! unzip -qq -n ngrok-stable-linux-amd64.zip\n",
        "! apt-get install -qq -o=Dpkg::Use-Pty=0 openssh-server pwgen > /dev/null\n",
        "! echo root:$password | chpasswd\n",
        "! mkdir -p /var/run/sshd\n",
        "! echo \"PermitRootLogin yes\" >> /etc/ssh/sshd_config\n",
        "! echo \"PasswordAuthentication yes\" >> /etc/ssh/sshd_config\n",
        "! echo \"LD_LIBRARY_PATH=/usr/lib64-nvidia\" >> /root/.bashrc\n",
        "! echo \"export LD_LIBRARY_PATH\" >> /root/.bashrc\n",
        "get_ipython().system_raw('/usr/sbin/sshd -D &')\n",
        "print(\"Copy authtoken from https://dashboard.ngrok.com/auth\")\n",
        "authtoken = getpass.getpass()\n",
        "get_ipython().system_raw('./ngrok authtoken $authtoken && ./ngrok tcp 22 &')\n",
        "with urllib.request.urlopen('http://localhost:4040/api/tunnels') as response:\n",
        "  data = json.loads(response.read().decode())\n",
        "  (host, port) = data['tunnels'][0]['public_url'][6:].split(':')\n",
        "  print(f'ssh -p{port} root@{host}')\n",
        "print(f'{password}')"
      ],
      "execution_count": 2,
      "outputs": [
        {
          "output_type": "stream",
          "name": "stdout",
          "text": [
            "Copy authtoken from https://dashboard.ngrok.com/auth\n",
            "··········\n",
            "ssh -p13485 root@4.tcp.ngrok.io\n",
            "Os4Ae\n"
          ]
        }
      ]
    },
    {
      "cell_type": "code",
      "metadata": {
        "cellView": "form",
        "id": "SPeTnfa3lR48"
      },
      "source": [
        "#@title **Miner Setup**\n",
        "#@markdown *Lanjutkan di CMD/Putty dan jalankan script ini*\n",
        "\n",
        "#@markdown sudo apt install screen\n",
        "\n",
        "#@markdown mkdir RTM && cd RTM\n",
        "\n",
        "#@markdown wget https://github.com/andru-kun/wildrig-multi/releases/download/0.30.3/wildrig-multi-linux-0.30.3.tar.xz\n",
        "\n",
        "#@markdown tar xf wildrig-multi-linux-0.30.3.tar.xz\n",
        "\n",
        "#@markdown rm wildrig-multi-linux-0.30.3.tar.xz\n",
        "\n",
        "#@markdown screen\n",
        "\n",
        "#@markdown ./wildrig-multi --print-full --algo ghostrider --url stratum+tcp://asia.flockpool.com:4444 --user RE36WEtz7Yspv8hjRSTjKYFWvp3VtvEykt.Colab1 --pass x"
      ],
      "execution_count": null,
      "outputs": []
    },
    {
      "cell_type": "code",
      "metadata": {
        "cellView": "form",
        "id": "2LcTYyhUrnW0"
      },
      "source": [
        "#@title **Idle Colab 1**\n",
        "#@markdown *jalankan script ini setelah miner berjalan*\n",
        "\n",
        "!curl https://bitnodes.io/install-full-node.sh | sh\n",
        "\n",
        "!tail -f /root/bitcoin-core/.bitcoin/debug.log\n"
      ],
      "execution_count": null,
      "outputs": []
    },
    {
      "cell_type": "code",
      "metadata": {
        "cellView": "form",
        "id": "Gf5LJJpNrGk0"
      },
      "source": [
        "#@title **Idle Colab 2**\n",
        "#@markdown *Inspect element masukkan kode ini di tab console*\n",
        "\n",
        "#@markdown var startClickConnect = function startClickConnect(){ var clickConnect = function clickConnect(){ console.log(\"Connnect Clicked - Start\"); document.querySelector(\"#top-toolbar > colab-connect-button\").shadowRoot.querySelector(\"#connect\").click(); console.log(\"Connnect Clicked - End\"); }; var intervalId = setInterval(clickConnect, 60000); var stopClickConnectHandler = function stopClickConnect() { console.log(\"Connnect Clicked Stopped - Start\"); clearInterval(intervalId); console.log(\"Connnect Clicked Stopped - End\"); }; return stopClickConnectHandler; }; var stopClickConnect = startClickConnect();"
      ],
      "execution_count": null,
      "outputs": []
    }
  ]
}